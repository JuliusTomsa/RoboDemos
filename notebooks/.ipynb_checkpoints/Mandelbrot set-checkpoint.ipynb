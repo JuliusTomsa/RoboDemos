{
 "cells": [
  {
   "cell_type": "code",
   "execution_count": null,
   "id": "b3d51f89",
   "metadata": {},
   "outputs": [],
   "source": [
    "import numpy as np\n",
    "from PIL import Image\n",
    "\n",
    "# user input\n",
    "width, height, cxmin, cxmax, cymin, cymax, iterations, image_path = input(\"Enter: width, height, cxmin, cxmax, cymin, cymax, iterations, image path\").split()\n",
    "# render mandlebrot set\n",
    "def mandlebrot_set(width, height, cxmin, cxmax, cymin, cymax, iterations, image_path):\n",
    "    # prerender image of dimensions width x height\n",
    "    image = Image.new(\"L\", (width, height))\n",
    "    # iterates through all pixels[x, y] and calculates their respective coordinates in the bounded complex plane\n",
    "    for x in range(width):\n",
    "        cx = x * (cxmax - cxmin) / (width) + cxmin\n",
    "        for y in range(height):\n",
    "            cy = y * (cymax - cymin) / (height) + cymin\n",
    "            # calculates complex number c\n",
    "            c = cx + cy * 1j\n",
    "            # stores value of c\n",
    "            C = c\n",
    "            # iterates while |c| <= 2\n",
    "            for i in range(iterations):\n",
    "                if abs(c) > 2.0:\n",
    "                    break\n",
    "                c = c * c + C\n",
    "            # assigns pixel[x, y] greyscale color depending on % of iterations completed\n",
    "            image.putpixel((x, y), int(round(255 - i/iterations * 255)))\n",
    "    image.show()\n",
    "    # saves rendered image to user given image path\n",
    "    image.save(f\"{image_path}/mandlebrot_set.png\")\n",
    "\n",
    "mandlebrot_set(int(width), int(height), int(cxmin), int(cxmax), int(cymin), int(cymax), int(iterations), image_path)"
   ]
  },
  {
   "cell_type": "code",
   "execution_count": null,
   "id": "2d5432df",
   "metadata": {},
   "outputs": [],
   "source": []
  }
 ],
 "metadata": {
  "kernelspec": {
   "display_name": "Python 3 (ipykernel)",
   "language": "python",
   "name": "python3"
  },
  "language_info": {
   "codemirror_mode": {
    "name": "ipython",
    "version": 3
   },
   "file_extension": ".py",
   "mimetype": "text/x-python",
   "name": "python",
   "nbconvert_exporter": "python",
   "pygments_lexer": "ipython3",
   "version": "3.10.10"
  }
 },
 "nbformat": 4,
 "nbformat_minor": 5
}
