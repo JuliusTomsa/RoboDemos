{
 "cells": [
  {
   "cell_type": "code",
   "execution_count": 3,
   "id": "b3d51f89",
   "metadata": {},
   "outputs": [
    {
     "name": "stdout",
     "output_type": "stream",
     "text": [
      "Enter: width, height, cxmin, cxmax, cymin, cymax, iterations, image path512 512 -1 1 -1 1 255 C:\\Users\\Julius\\Desktop\\School\\Programming\\RoboDemos\\notebooks\n"
     ]
    }
   ],
   "source": [
    "import numpy as np\n",
    "from PIL import Image\n",
    "\n",
    "# user input\n",
    "width, height, cxmin, cxmax, cymin, cymax, iterations, image_path = input(\"Enter: width, height, cxmin, cxmax, cymin, cymax, iterations, image path\").split()\n",
    "# render mandlebrot set\n",
    "def mandlebrot_set(width, height, cxmin, cxmax, cymin, cymax, iterations, image_path):\n",
    "    image = Image.new(\"L\", (width, height))\n",
    "    for x in range(width):\n",
    "        cx = x * (cxmax - cxmin) / (width - 1) + cxmin\n",
    "        for y in range(height):\n",
    "            cy = y * (cymax - cymin) / (height - 1) + cymin\n",
    "            c = cx + cy * 1j\n",
    "            C = c\n",
    "            for i in range(iterations):\n",
    "                if abs(c) > 2.0:\n",
    "                    break\n",
    "                c = c * c + C\n",
    "            image.putpixel((x, y), int(round(255 - i/iterations * 255)))\n",
    "    image.show()\n",
    "    image.save(f\"{image_path}/mandlebrot_set.png\")\n",
    "\n",
    "mandlebrot_set(int(width), int(height), int(cxmin), int(cxmax), int(cymin), int(cymax), int(iterations), image_path)"
   ]
  }
 ],
 "metadata": {
  "kernelspec": {
   "display_name": "Python 3 (ipykernel)",
   "language": "python",
   "name": "python3"
  },
  "language_info": {
   "codemirror_mode": {
    "name": "ipython",
    "version": 3
   },
   "file_extension": ".py",
   "mimetype": "text/x-python",
   "name": "python",
   "nbconvert_exporter": "python",
   "pygments_lexer": "ipython3",
   "version": "3.10.10"
  }
 },
 "nbformat": 4,
 "nbformat_minor": 5
}
