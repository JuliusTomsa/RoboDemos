{
 "cells": [
  {
   "cell_type": "code",
   "execution_count": 1,
   "id": "750a8bc5",
   "metadata": {},
   "outputs": [
    {
     "name": "stdout",
     "output_type": "stream",
     "text": [
      "Enter funcion parameters: a, b, delta69 96 2\n",
      "Enter image parameters: width, height, red, green, blue4000 4000 20 150 150\n",
      "Enter image pathC:\\Users\\Julius\\Desktop\\School\\Programming\\RoboDemos\\notebooks\n"
     ]
    }
   ],
   "source": [
    "import numpy as np\n",
    "from PIL import Image\n",
    "\n",
    "# user function parameters\n",
    "a, b, delta = input(\"Enter funcion parameters: a, b, delta\").split()\n",
    "# user image parameters\n",
    "width, height, R, G, B = input(\"Enter image parameters: width, height, red, green, blue\").split()\n",
    "image_path = input(\"Enter image path\")\n",
    "\n",
    "# render lissajous curve function\n",
    "def lissajous_curve(width, height, a, b, delta, R, G, B, image_path):\n",
    "    \n",
    "    # time (start, stop, number of steps)\n",
    "    time = np.linspace(0, np.pi * 2, 1000000)\n",
    "    \n",
    "    # create array(width * height) with 3 values for RGB image \n",
    "    imarray = np.full([width, height, 3], 0, dtype=int)\n",
    "    \n",
    "    # array coloring function\n",
    "    for t in time:\n",
    "        \n",
    "        # x, y variables\n",
    "        x = np.sin(a * t + np.pi / delta)\n",
    "        y = np.sin(b * t)\n",
    "        \n",
    "        # calculates pixel coordinates in time t with respect to x and y\n",
    "        pixel_x_coord = int(round(width * x))\n",
    "        pixel_y_coord = int(round(height * y))\n",
    "        \n",
    "        # prevents X axis index error\n",
    "        if pixel_x_coord == width:\n",
    "            pixel_x_coord = pixel_x_coord - 1\n",
    "        \n",
    "        # prevents Y axis index error\n",
    "        if pixel_y_coord == height:\n",
    "            pixel_y_coord = pixel_y_coord - 1\n",
    "        \n",
    "        # colors pixel with given coordinates with RGB color settings\n",
    "        imarray[pixel_x_coord][pixel_y_coord][:] = [R, G, B]\n",
    "        \n",
    "    # creates image from array\n",
    "    image = Image.fromarray(imarray.astype('uint8')).convert('RGB')\n",
    "    \n",
    "    # shows image preview\n",
    "    image.show()\n",
    "    \n",
    "    # saves image to path\n",
    "    image.save(f\"{image_path}/result_image.png\")\n",
    "\n",
    "# main\n",
    "lissajous_curve(int(width), int(height), int(a), int(b), int(delta), int(R), int(G), int(B), image_path)"
   ]
  },
  {
   "cell_type": "code",
   "execution_count": null,
   "id": "6669568b",
   "metadata": {},
   "outputs": [],
   "source": []
  },
  {
   "cell_type": "code",
   "execution_count": null,
   "id": "cd57f4ff",
   "metadata": {},
   "outputs": [],
   "source": []
  }
 ],
 "metadata": {
  "kernelspec": {
   "display_name": "Python 3 (ipykernel)",
   "language": "python",
   "name": "python3"
  },
  "language_info": {
   "codemirror_mode": {
    "name": "ipython",
    "version": 3
   },
   "file_extension": ".py",
   "mimetype": "text/x-python",
   "name": "python",
   "nbconvert_exporter": "python",
   "pygments_lexer": "ipython3",
   "version": "3.10.9"
  }
 },
 "nbformat": 4,
 "nbformat_minor": 5
}
