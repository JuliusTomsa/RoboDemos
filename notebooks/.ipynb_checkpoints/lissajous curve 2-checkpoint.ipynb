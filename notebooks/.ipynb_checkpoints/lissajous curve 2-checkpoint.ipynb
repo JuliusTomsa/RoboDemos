{
 "cells": [
  {
   "cell_type": "code",
   "execution_count": 27,
   "id": "750a8bc5",
   "metadata": {},
   "outputs": [
    {
     "name": "stdout",
     "output_type": "stream",
     "text": [
      "Enter funcion parameters: a, b, delta69 96 2\n",
      "Enter image parameters: width, height, red, green, blue1000 1000 0 100 200\n",
      "Enter image pathp\n"
     ]
    },
    {
     "ename": "FileNotFoundError",
     "evalue": "[Errno 2] No such file or directory: 'p/result_image.png'",
     "output_type": "error",
     "traceback": [
      "\u001b[1;31m---------------------------------------------------------------------------\u001b[0m",
      "\u001b[1;31mFileNotFoundError\u001b[0m                         Traceback (most recent call last)",
      "Cell \u001b[1;32mIn[27], line 53\u001b[0m\n\u001b[0;32m     50\u001b[0m     image\u001b[38;5;241m.\u001b[39msave(\u001b[38;5;124mf\u001b[39m\u001b[38;5;124m\"\u001b[39m\u001b[38;5;132;01m{\u001b[39;00mimage_path\u001b[38;5;132;01m}\u001b[39;00m\u001b[38;5;124m/result_image.png\u001b[39m\u001b[38;5;124m\"\u001b[39m)\n\u001b[0;32m     52\u001b[0m \u001b[38;5;66;03m# main\u001b[39;00m\n\u001b[1;32m---> 53\u001b[0m \u001b[43mlissajous_curve\u001b[49m\u001b[43m(\u001b[49m\u001b[38;5;28;43mint\u001b[39;49m\u001b[43m(\u001b[49m\u001b[43mwidth\u001b[49m\u001b[43m)\u001b[49m\u001b[43m,\u001b[49m\u001b[43m \u001b[49m\u001b[38;5;28;43mint\u001b[39;49m\u001b[43m(\u001b[49m\u001b[43mheight\u001b[49m\u001b[43m)\u001b[49m\u001b[43m,\u001b[49m\u001b[43m \u001b[49m\u001b[38;5;28;43mint\u001b[39;49m\u001b[43m(\u001b[49m\u001b[43ma\u001b[49m\u001b[43m)\u001b[49m\u001b[43m,\u001b[49m\u001b[43m \u001b[49m\u001b[38;5;28;43mint\u001b[39;49m\u001b[43m(\u001b[49m\u001b[43mb\u001b[49m\u001b[43m)\u001b[49m\u001b[43m,\u001b[49m\u001b[43m \u001b[49m\u001b[38;5;28;43mint\u001b[39;49m\u001b[43m(\u001b[49m\u001b[43mdelta\u001b[49m\u001b[43m)\u001b[49m\u001b[43m,\u001b[49m\u001b[43m \u001b[49m\u001b[38;5;28;43mint\u001b[39;49m\u001b[43m(\u001b[49m\u001b[43mR\u001b[49m\u001b[43m)\u001b[49m\u001b[43m,\u001b[49m\u001b[43m \u001b[49m\u001b[38;5;28;43mint\u001b[39;49m\u001b[43m(\u001b[49m\u001b[43mG\u001b[49m\u001b[43m)\u001b[49m\u001b[43m,\u001b[49m\u001b[43m \u001b[49m\u001b[38;5;28;43mint\u001b[39;49m\u001b[43m(\u001b[49m\u001b[43mB\u001b[49m\u001b[43m)\u001b[49m\u001b[43m,\u001b[49m\u001b[43m \u001b[49m\u001b[43mimage_path\u001b[49m\u001b[43m)\u001b[49m\n",
      "Cell \u001b[1;32mIn[27], line 50\u001b[0m, in \u001b[0;36mlissajous_curve\u001b[1;34m(width, height, a, b, delta, R, G, B, image_path)\u001b[0m\n\u001b[0;32m     47\u001b[0m image\u001b[38;5;241m.\u001b[39mshow()\n\u001b[0;32m     49\u001b[0m \u001b[38;5;66;03m# saves image to path\u001b[39;00m\n\u001b[1;32m---> 50\u001b[0m \u001b[43mimage\u001b[49m\u001b[38;5;241;43m.\u001b[39;49m\u001b[43msave\u001b[49m\u001b[43m(\u001b[49m\u001b[38;5;124;43mf\u001b[39;49m\u001b[38;5;124;43m\"\u001b[39;49m\u001b[38;5;132;43;01m{\u001b[39;49;00m\u001b[43mimage_path\u001b[49m\u001b[38;5;132;43;01m}\u001b[39;49;00m\u001b[38;5;124;43m/result_image.png\u001b[39;49m\u001b[38;5;124;43m\"\u001b[39;49m\u001b[43m)\u001b[49m\n",
      "File \u001b[1;32m~\\anaconda3\\lib\\site-packages\\PIL\\Image.py:2428\u001b[0m, in \u001b[0;36mImage.save\u001b[1;34m(self, fp, format, **params)\u001b[0m\n\u001b[0;32m   2426\u001b[0m         fp \u001b[38;5;241m=\u001b[39m builtins\u001b[38;5;241m.\u001b[39mopen(filename, \u001b[38;5;124m\"\u001b[39m\u001b[38;5;124mr+b\u001b[39m\u001b[38;5;124m\"\u001b[39m)\n\u001b[0;32m   2427\u001b[0m     \u001b[38;5;28;01melse\u001b[39;00m:\n\u001b[1;32m-> 2428\u001b[0m         fp \u001b[38;5;241m=\u001b[39m \u001b[43mbuiltins\u001b[49m\u001b[38;5;241;43m.\u001b[39;49m\u001b[43mopen\u001b[49m\u001b[43m(\u001b[49m\u001b[43mfilename\u001b[49m\u001b[43m,\u001b[49m\u001b[43m \u001b[49m\u001b[38;5;124;43m\"\u001b[39;49m\u001b[38;5;124;43mw+b\u001b[39;49m\u001b[38;5;124;43m\"\u001b[39;49m\u001b[43m)\u001b[49m\n\u001b[0;32m   2430\u001b[0m \u001b[38;5;28;01mtry\u001b[39;00m:\n\u001b[0;32m   2431\u001b[0m     save_handler(\u001b[38;5;28mself\u001b[39m, fp, filename)\n",
      "\u001b[1;31mFileNotFoundError\u001b[0m: [Errno 2] No such file or directory: 'p/result_image.png'"
     ]
    }
   ],
   "source": [
    "import numpy as np\n",
    "from PIL import Image\n",
    "\n",
    "# user function parameters\n",
    "a, b, delta = input(\"Enter funcion parameters: a, b, delta\").split()\n",
    "# user image parameters\n",
    "width, height, R, G, B = input(\"Enter image parameters: width, height, red, green, blue\").split()\n",
    "image_path = input(\"Enter image path\")\n",
    "\n",
    "# render lissajous curve function\n",
    "def lissajous_curve(width, height, a, b, delta, R, G, B, image_path):\n",
    "    \n",
    "    # time (start, stop, number of steps)\n",
    "    time = np.linspace(0, np.pi * 2, 1000000)\n",
    "    \n",
    "    # create array(width * height) with 3 values for RGB image \n",
    "    imarray = np.full([width, height, 3], 255, dtype=int)\n",
    "    \n",
    "    # array coloring function\n",
    "    for t in time:\n",
    "        \n",
    "        # x, y variables\n",
    "        x = np.sin(a * t + np.pi / delta)\n",
    "        y = np.sin(b * t)\n",
    "        \n",
    "        # calculates pixel coordinates in time t with respect to x and y\n",
    "        pixel_x_coord = int(round(width * x))\n",
    "        pixel_y_coord = int(round(height * y))\n",
    "        \n",
    "        # prevents X axis index error\n",
    "        if pixel_x_coord == width:\n",
    "            pixel_x_coord = pixel_x_coord - 1\n",
    "        \n",
    "        # prevents Y axis index error\n",
    "        if pixel_y_coord == height:\n",
    "            pixel_y_coord = pixel_y_coord - 1\n",
    "        \n",
    "        # colors pixel with given coordinates with RGB color settings\n",
    "        imarray[pixel_x_coord][pixel_y_coord][:] = [R, G, B]\n",
    "        \n",
    "    # creates image from array\n",
    "    image = Image.fromarray(imarray.astype('uint8')).convert('RGB')\n",
    "    \n",
    "    # shows image preview\n",
    "    image.show()\n",
    "    \n",
    "    # saves image to path\n",
    "    image.save(f\"{image_path}/result_image.png\")\n",
    "\n",
    "# main\n",
    "lissajous_curve(int(width), int(height), int(a), int(b), int(delta), int(R), int(G), int(B), image_path)"
   ]
  },
  {
   "cell_type": "code",
   "execution_count": null,
   "id": "6669568b",
   "metadata": {},
   "outputs": [],
   "source": []
  }
 ],
 "metadata": {
  "kernelspec": {
   "display_name": "Python 3 (ipykernel)",
   "language": "python",
   "name": "python3"
  },
  "language_info": {
   "codemirror_mode": {
    "name": "ipython",
    "version": 3
   },
   "file_extension": ".py",
   "mimetype": "text/x-python",
   "name": "python",
   "nbconvert_exporter": "python",
   "pygments_lexer": "ipython3",
   "version": "3.10.9"
  }
 },
 "nbformat": 4,
 "nbformat_minor": 5
}
