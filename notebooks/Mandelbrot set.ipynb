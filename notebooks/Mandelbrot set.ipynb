{
 "cells": [
  {
   "cell_type": "code",
   "execution_count": 4,
   "id": "b3d51f89",
   "metadata": {},
   "outputs": [
    {
     "name": "stdout",
     "output_type": "stream",
     "text": [
      "Enter function parameters: cxmin, cxmax, cymin, cymax, iterations-1 1 -2 2 100\n",
      "Enter image parameters: width, height512 512\n",
      "Enter image pathp\n"
     ]
    },
    {
     "ename": "FileNotFoundError",
     "evalue": "[Errno 2] No such file or directory: 'p/mandlebrot_set.png'",
     "output_type": "error",
     "traceback": [
      "\u001b[1;31m---------------------------------------------------------------------------\u001b[0m",
      "\u001b[1;31mFileNotFoundError\u001b[0m                         Traceback (most recent call last)",
      "Cell \u001b[1;32mIn[4], line 32\u001b[0m\n\u001b[0;32m     29\u001b[0m     \u001b[38;5;66;03m# saves rendered image to user given image path\u001b[39;00m\n\u001b[0;32m     30\u001b[0m     image\u001b[38;5;241m.\u001b[39msave(\u001b[38;5;124mf\u001b[39m\u001b[38;5;124m\"\u001b[39m\u001b[38;5;132;01m{\u001b[39;00mimage_path\u001b[38;5;132;01m}\u001b[39;00m\u001b[38;5;124m/mandlebrot_set.png\u001b[39m\u001b[38;5;124m\"\u001b[39m)\n\u001b[1;32m---> 32\u001b[0m \u001b[43mmandlebrot_set\u001b[49m\u001b[43m(\u001b[49m\u001b[38;5;28;43mint\u001b[39;49m\u001b[43m(\u001b[49m\u001b[43mwidth\u001b[49m\u001b[43m)\u001b[49m\u001b[43m,\u001b[49m\u001b[43m \u001b[49m\u001b[38;5;28;43mint\u001b[39;49m\u001b[43m(\u001b[49m\u001b[43mheight\u001b[49m\u001b[43m)\u001b[49m\u001b[43m,\u001b[49m\u001b[43m \u001b[49m\u001b[38;5;28;43mint\u001b[39;49m\u001b[43m(\u001b[49m\u001b[43mcxmin\u001b[49m\u001b[43m)\u001b[49m\u001b[43m,\u001b[49m\u001b[43m \u001b[49m\u001b[38;5;28;43mint\u001b[39;49m\u001b[43m(\u001b[49m\u001b[43mcxmax\u001b[49m\u001b[43m)\u001b[49m\u001b[43m,\u001b[49m\u001b[43m \u001b[49m\u001b[38;5;28;43mint\u001b[39;49m\u001b[43m(\u001b[49m\u001b[43mcymin\u001b[49m\u001b[43m)\u001b[49m\u001b[43m,\u001b[49m\u001b[43m \u001b[49m\u001b[38;5;28;43mint\u001b[39;49m\u001b[43m(\u001b[49m\u001b[43mcymax\u001b[49m\u001b[43m)\u001b[49m\u001b[43m,\u001b[49m\u001b[43m \u001b[49m\u001b[38;5;28;43mint\u001b[39;49m\u001b[43m(\u001b[49m\u001b[43miterations\u001b[49m\u001b[43m)\u001b[49m\u001b[43m,\u001b[49m\u001b[43m \u001b[49m\u001b[43mimage_path\u001b[49m\u001b[43m)\u001b[49m\n",
      "Cell \u001b[1;32mIn[4], line 30\u001b[0m, in \u001b[0;36mmandlebrot_set\u001b[1;34m(width, height, cxmin, cxmax, cymin, cymax, iterations, image_path)\u001b[0m\n\u001b[0;32m     28\u001b[0m image\u001b[38;5;241m.\u001b[39mshow()\n\u001b[0;32m     29\u001b[0m \u001b[38;5;66;03m# saves rendered image to user given image path\u001b[39;00m\n\u001b[1;32m---> 30\u001b[0m \u001b[43mimage\u001b[49m\u001b[38;5;241;43m.\u001b[39;49m\u001b[43msave\u001b[49m\u001b[43m(\u001b[49m\u001b[38;5;124;43mf\u001b[39;49m\u001b[38;5;124;43m\"\u001b[39;49m\u001b[38;5;132;43;01m{\u001b[39;49;00m\u001b[43mimage_path\u001b[49m\u001b[38;5;132;43;01m}\u001b[39;49;00m\u001b[38;5;124;43m/mandlebrot_set.png\u001b[39;49m\u001b[38;5;124;43m\"\u001b[39;49m\u001b[43m)\u001b[49m\n",
      "File \u001b[1;32m~\\anaconda3\\lib\\site-packages\\PIL\\Image.py:2428\u001b[0m, in \u001b[0;36mImage.save\u001b[1;34m(self, fp, format, **params)\u001b[0m\n\u001b[0;32m   2426\u001b[0m         fp \u001b[38;5;241m=\u001b[39m builtins\u001b[38;5;241m.\u001b[39mopen(filename, \u001b[38;5;124m\"\u001b[39m\u001b[38;5;124mr+b\u001b[39m\u001b[38;5;124m\"\u001b[39m)\n\u001b[0;32m   2427\u001b[0m     \u001b[38;5;28;01melse\u001b[39;00m:\n\u001b[1;32m-> 2428\u001b[0m         fp \u001b[38;5;241m=\u001b[39m \u001b[43mbuiltins\u001b[49m\u001b[38;5;241;43m.\u001b[39;49m\u001b[43mopen\u001b[49m\u001b[43m(\u001b[49m\u001b[43mfilename\u001b[49m\u001b[43m,\u001b[49m\u001b[43m \u001b[49m\u001b[38;5;124;43m\"\u001b[39;49m\u001b[38;5;124;43mw+b\u001b[39;49m\u001b[38;5;124;43m\"\u001b[39;49m\u001b[43m)\u001b[49m\n\u001b[0;32m   2430\u001b[0m \u001b[38;5;28;01mtry\u001b[39;00m:\n\u001b[0;32m   2431\u001b[0m     save_handler(\u001b[38;5;28mself\u001b[39m, fp, filename)\n",
      "\u001b[1;31mFileNotFoundError\u001b[0m: [Errno 2] No such file or directory: 'p/mandlebrot_set.png'"
     ]
    }
   ],
   "source": [
    "import numpy as np\n",
    "from PIL import Image\n",
    "\n",
    "\n",
    "# user function parameters\n",
    "cxmin, cxmax, cymin, cymax, iterations = input(\"Enter function parameters: cxmin, cxmax, cymin, cymax, iterations\").split()\n",
    "# user image parameters\n",
    "width, height = input(\"Enter image parameters: width, height\").split()\n",
    "image_path = input(\"Enter image path\")\n",
    "\n",
    "# render mandlebrot set function\n",
    "def mandlebrot_set(width, height, cxmin, cxmax, cymin, cymax, iterations, image_path):\n",
    "    \n",
    "    # prerender image of dimensions width x height in greyscale mode\n",
    "    image = Image.new(\"L\", (width, height))\n",
    "    \n",
    "    # iterates through all pixels[x, y] and calculates their respective coordinates in the bounded complex plane\n",
    "    for x in range(width):\n",
    "        cx = x * (cxmax - cxmin) / (width - 1) + cxmin\n",
    "        for y in range(height):\n",
    "            cy = y * (cymax - cymin) / (height - 1) + cymin\n",
    "            \n",
    "            # calculates complex number c\n",
    "            c = cx + cy * 1j\n",
    "            \n",
    "            # stores value of c\n",
    "            C = c\n",
    "            \n",
    "            # iterates while |c| <= 2\n",
    "            for i in range(iterations):\n",
    "                if abs(c) > 2.0:\n",
    "                    break\n",
    "                c = c * c + C\n",
    "            \n",
    "            # assigns pixel[x, y] greyscale color depending on % of iterations completed\n",
    "            image.putpixel((x, y), int(round(255 - i/iterations * 255)))\n",
    "    \n",
    "    # shows image preview\n",
    "    image.show()\n",
    "    \n",
    "    # saves image to path\n",
    "    image.save(f\"{image_path}/mandlebrot_set.png\")\n",
    "# main\n",
    "mandlebrot_set(int(width), int(height), int(cxmin), int(cxmax), int(cymin), int(cymax), int(iterations), image_path)"
   ]
  },
  {
   "cell_type": "code",
   "execution_count": null,
   "id": "2d5432df",
   "metadata": {},
   "outputs": [],
   "source": []
  }
 ],
 "metadata": {
  "kernelspec": {
   "display_name": "Python 3 (ipykernel)",
   "language": "python",
   "name": "python3"
  },
  "language_info": {
   "codemirror_mode": {
    "name": "ipython",
    "version": 3
   },
   "file_extension": ".py",
   "mimetype": "text/x-python",
   "name": "python",
   "nbconvert_exporter": "python",
   "pygments_lexer": "ipython3",
   "version": "3.10.9"
  }
 },
 "nbformat": 4,
 "nbformat_minor": 5
}
